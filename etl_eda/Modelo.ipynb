{
 "cells": [
  {
   "cell_type": "code",
   "execution_count": 1,
   "metadata": {},
   "outputs": [],
   "source": [
    "from sklearn.feature_extraction.text import CountVectorizer\n",
    "from sklearn.metrics.pairwise import cosine_similarity\n",
    "import pyarrow.parquet as pq\n",
    "import pandas as pd\n",
    "import joblib"
   ]
  },
  {
   "cell_type": "code",
   "execution_count": 3,
   "metadata": {},
   "outputs": [],
   "source": [
    "# Leo la data necesaria\n",
    "df_steam_games = pq.read_table('data2/df_steam_games_limpio_final.parquet').to_pandas()"
   ]
  },
  {
   "cell_type": "code",
   "execution_count": 4,
   "metadata": {},
   "outputs": [],
   "source": [
    "# Selección de columnas relevantes\n",
    "data = df_steam_games[['id', 'app_name', 'genres', 'tags', 'specs']]"
   ]
  },
  {
   "cell_type": "code",
   "execution_count": null,
   "metadata": {},
   "outputs": [],
   "source": [
    "# Limpieza y preprocesamiento de texto\n",
    "data['combined_features'] = data['genres'] + ' ' + data['tags'] + ' ' + data['specs']"
   ]
  },
  {
   "cell_type": "code",
   "execution_count": 14,
   "metadata": {},
   "outputs": [],
   "source": [
    "# Elimino el explode realizado \n",
    "data = data.groupby('id').first().reset_index()"
   ]
  },
  {
   "cell_type": "code",
   "execution_count": 15,
   "metadata": {},
   "outputs": [],
   "source": [
    "# Elimino los juegos que tienen id=0, si los hay.\n",
    "data = data[data['id']!=0]"
   ]
  },
  {
   "cell_type": "code",
   "execution_count": 16,
   "metadata": {},
   "outputs": [
    {
     "data": {
      "text/plain": [
       "28766"
      ]
     },
     "execution_count": 16,
     "metadata": {},
     "output_type": "execute_result"
    }
   ],
   "source": [
    "# Cantidad de juegos diferentes\n",
    "data['app_name'].nunique()"
   ]
  },
  {
   "cell_type": "code",
   "execution_count": 17,
   "metadata": {},
   "outputs": [],
   "source": [
    "# Tomo una muesta aleatoria de 5000 juegos, para reducir el peso de la matriz\n",
    "# de similitud del modelo.\n",
    "data = data.sample(n=5000)"
   ]
  },
  {
   "cell_type": "code",
   "execution_count": 19,
   "metadata": {},
   "outputs": [],
   "source": [
    "data.reset_index(drop=True, inplace=True)"
   ]
  },
  {
   "cell_type": "code",
   "execution_count": 20,
   "metadata": {},
   "outputs": [
    {
     "data": {
      "text/html": [
       "<div>\n",
       "<style scoped>\n",
       "    .dataframe tbody tr th:only-of-type {\n",
       "        vertical-align: middle;\n",
       "    }\n",
       "\n",
       "    .dataframe tbody tr th {\n",
       "        vertical-align: top;\n",
       "    }\n",
       "\n",
       "    .dataframe thead th {\n",
       "        text-align: right;\n",
       "    }\n",
       "</style>\n",
       "<table border=\"1\" class=\"dataframe\">\n",
       "  <thead>\n",
       "    <tr style=\"text-align: right;\">\n",
       "      <th></th>\n",
       "      <th>id</th>\n",
       "      <th>app_name</th>\n",
       "      <th>genres</th>\n",
       "      <th>tags</th>\n",
       "      <th>specs</th>\n",
       "      <th>combined_features</th>\n",
       "    </tr>\n",
       "  </thead>\n",
       "  <tbody>\n",
       "    <tr>\n",
       "      <th>0</th>\n",
       "      <td>610221</td>\n",
       "      <td>night in the woodssoundtrack vol ii</td>\n",
       "      <td>adventure</td>\n",
       "      <td>adventure</td>\n",
       "      <td>singleplayer</td>\n",
       "      <td>adventure adventure singleplayer</td>\n",
       "    </tr>\n",
       "    <tr>\n",
       "      <th>1</th>\n",
       "      <td>241950</td>\n",
       "      <td>hacker evolution duality hardcore package part...</td>\n",
       "      <td>indie</td>\n",
       "      <td>indie</td>\n",
       "      <td>singleplayer</td>\n",
       "      <td>indie indie singleplayer</td>\n",
       "    </tr>\n",
       "    <tr>\n",
       "      <th>2</th>\n",
       "      <td>718090</td>\n",
       "      <td>princesslootpixelagain x2</td>\n",
       "      <td>action</td>\n",
       "      <td>early access</td>\n",
       "      <td>singleplayer</td>\n",
       "      <td>action early access singleplayer</td>\n",
       "    </tr>\n",
       "    <tr>\n",
       "      <th>3</th>\n",
       "      <td>744170</td>\n",
       "      <td>starfighter neon</td>\n",
       "      <td>action</td>\n",
       "      <td>action</td>\n",
       "      <td>singleplayer</td>\n",
       "      <td>action action singleplayer</td>\n",
       "    </tr>\n",
       "    <tr>\n",
       "      <th>4</th>\n",
       "      <td>548050</td>\n",
       "      <td>runes</td>\n",
       "      <td>casual</td>\n",
       "      <td>casual</td>\n",
       "      <td>singleplayer</td>\n",
       "      <td>casual casual singleplayer</td>\n",
       "    </tr>\n",
       "  </tbody>\n",
       "</table>\n",
       "</div>"
      ],
      "text/plain": [
       "       id                                           app_name     genres  \\\n",
       "0  610221                night in the woodssoundtrack vol ii  adventure   \n",
       "1  241950  hacker evolution duality hardcore package part...      indie   \n",
       "2  718090                          princesslootpixelagain x2     action   \n",
       "3  744170                                   starfighter neon     action   \n",
       "4  548050                                              runes     casual   \n",
       "\n",
       "           tags         specs                 combined_features  \n",
       "0     adventure  singleplayer  adventure adventure singleplayer  \n",
       "1         indie  singleplayer          indie indie singleplayer  \n",
       "2  early access  singleplayer  action early access singleplayer  \n",
       "3        action  singleplayer        action action singleplayer  \n",
       "4        casual  singleplayer        casual casual singleplayer  "
      ]
     },
     "execution_count": 20,
     "metadata": {},
     "output_type": "execute_result"
    }
   ],
   "source": [
    "data.head()"
   ]
  },
  {
   "cell_type": "code",
   "execution_count": 22,
   "metadata": {},
   "outputs": [],
   "source": [
    "# Guardo los 5000 juegos seleccionados para su posterior uso\n",
    "data.to_csv('df_steam_games_selected.csv')"
   ]
  },
  {
   "cell_type": "code",
   "execution_count": null,
   "metadata": {},
   "outputs": [],
   "source": [
    "# Guardo el dataframe con compresión parquet\n",
    "import pyarrow.parquet as pq\n",
    "data.to_parquet('df_modelo.parquet')"
   ]
  },
  {
   "cell_type": "code",
   "execution_count": 25,
   "metadata": {},
   "outputs": [],
   "source": [
    "# Instancio el modelo de similitud\n",
    "CV = CountVectorizer()\n",
    "converted_metrix = CV.fit_transform(data['combined_features'])"
   ]
  },
  {
   "cell_type": "code",
   "execution_count": 26,
   "metadata": {},
   "outputs": [],
   "source": [
    "# Calculo la similitud entre los juegos con la distancia coseno\n",
    "cosine_similarity = cosine_similarity(converted_metrix)"
   ]
  },
  {
   "cell_type": "code",
   "execution_count": 30,
   "metadata": {},
   "outputs": [
    {
     "data": {
      "text/plain": [
       "['Matriz.pkl']"
      ]
     },
     "execution_count": 30,
     "metadata": {},
     "output_type": "execute_result"
    }
   ],
   "source": [
    "# Guardo la matriz con compresión .pkl\n",
    "joblib.dump(cosine_similarity, 'Matriz.pkl', compress=1)"
   ]
  },
  {
   "cell_type": "markdown",
   "metadata": {},
   "source": [
    "### Verifico que la data guardada funcione"
   ]
  },
  {
   "cell_type": "code",
   "execution_count": 2,
   "metadata": {},
   "outputs": [],
   "source": [
    "import joblib\n",
    "# Leo la data guardada para ver que funciona\n",
    "with open('data/Matriz.pkl', 'rb') as file:\n",
    "        modelo = joblib.load(file)\n",
    "\n",
    "data = pd.read_parquet('data/df_modelo.parquet')"
   ]
  },
  {
   "cell_type": "code",
   "execution_count": 3,
   "metadata": {},
   "outputs": [
    {
     "data": {
      "text/html": [
       "<div>\n",
       "<style scoped>\n",
       "    .dataframe tbody tr th:only-of-type {\n",
       "        vertical-align: middle;\n",
       "    }\n",
       "\n",
       "    .dataframe tbody tr th {\n",
       "        vertical-align: top;\n",
       "    }\n",
       "\n",
       "    .dataframe thead th {\n",
       "        text-align: right;\n",
       "    }\n",
       "</style>\n",
       "<table border=\"1\" class=\"dataframe\">\n",
       "  <thead>\n",
       "    <tr style=\"text-align: right;\">\n",
       "      <th></th>\n",
       "      <th>id</th>\n",
       "      <th>app_name</th>\n",
       "      <th>genres</th>\n",
       "      <th>tags</th>\n",
       "      <th>specs</th>\n",
       "      <th>combined_features</th>\n",
       "    </tr>\n",
       "  </thead>\n",
       "  <tbody>\n",
       "    <tr>\n",
       "      <th>0</th>\n",
       "      <td>610221</td>\n",
       "      <td>night in the woodssoundtrack vol ii</td>\n",
       "      <td>adventure</td>\n",
       "      <td>adventure</td>\n",
       "      <td>singleplayer</td>\n",
       "      <td>adventure adventure singleplayer</td>\n",
       "    </tr>\n",
       "    <tr>\n",
       "      <th>1</th>\n",
       "      <td>241950</td>\n",
       "      <td>hacker evolution duality hardcore package part...</td>\n",
       "      <td>indie</td>\n",
       "      <td>indie</td>\n",
       "      <td>singleplayer</td>\n",
       "      <td>indie indie singleplayer</td>\n",
       "    </tr>\n",
       "    <tr>\n",
       "      <th>2</th>\n",
       "      <td>718090</td>\n",
       "      <td>princesslootpixelagain x2</td>\n",
       "      <td>action</td>\n",
       "      <td>early access</td>\n",
       "      <td>singleplayer</td>\n",
       "      <td>action early access singleplayer</td>\n",
       "    </tr>\n",
       "    <tr>\n",
       "      <th>3</th>\n",
       "      <td>744170</td>\n",
       "      <td>starfighter neon</td>\n",
       "      <td>action</td>\n",
       "      <td>action</td>\n",
       "      <td>singleplayer</td>\n",
       "      <td>action action singleplayer</td>\n",
       "    </tr>\n",
       "    <tr>\n",
       "      <th>4</th>\n",
       "      <td>548050</td>\n",
       "      <td>runes</td>\n",
       "      <td>casual</td>\n",
       "      <td>casual</td>\n",
       "      <td>singleplayer</td>\n",
       "      <td>casual casual singleplayer</td>\n",
       "    </tr>\n",
       "  </tbody>\n",
       "</table>\n",
       "</div>"
      ],
      "text/plain": [
       "       id                                           app_name     genres  \\\n",
       "0  610221                night in the woodssoundtrack vol ii  adventure   \n",
       "1  241950  hacker evolution duality hardcore package part...      indie   \n",
       "2  718090                          princesslootpixelagain x2     action   \n",
       "3  744170                                   starfighter neon     action   \n",
       "4  548050                                              runes     casual   \n",
       "\n",
       "           tags         specs                 combined_features  \n",
       "0     adventure  singleplayer  adventure adventure singleplayer  \n",
       "1         indie  singleplayer          indie indie singleplayer  \n",
       "2  early access  singleplayer  action early access singleplayer  \n",
       "3        action  singleplayer        action action singleplayer  \n",
       "4        casual  singleplayer        casual casual singleplayer  "
      ]
     },
     "execution_count": 3,
     "metadata": {},
     "output_type": "execute_result"
    }
   ],
   "source": [
    "data.head()"
   ]
  },
  {
   "cell_type": "code",
   "execution_count": 7,
   "metadata": {},
   "outputs": [],
   "source": [
    "# Defino función para obtener la recomenación\n",
    "def get_recommendations(app_name, cosine_sim=modelo):\n",
    "    idx = data[data['app_name'] == app_name].index[0]\n",
    "    sim_scores = list(enumerate(cosine_sim[idx]))\n",
    "    sim_scores = sorted(sim_scores, key=lambda x: x[1], reverse=True)\n",
    "    sim_scores = sim_scores[1:7]  # Top 6 juegos similares, incluido él mismo\n",
    "    game_indices = [i[0] for i in sim_scores]\n",
    "    return data['app_name'].iloc[game_indices]\n",
    "\n"
   ]
  },
  {
   "cell_type": "code",
   "execution_count": 8,
   "metadata": {},
   "outputs": [
    {
     "name": "stdout",
     "output_type": "stream",
     "text": [
      "20                           sin city\n",
      "84                              red 2\n",
      "199                                pi\n",
      "228          gina yashere skinny btch\n",
      "244    eddie griffinfreedom of speech\n",
      "245           josh blue sticky change\n",
      "Name: app_name, dtype: object\n"
     ]
    }
   ],
   "source": [
    "# Obtengo la recomendación para alguno de los juegos de la muesta aleatoria\n",
    "# En el endpoint corrijo el código, para sacar de la lista el juego consultado\n",
    "recommendations = get_recommendations('pi')\n",
    "print(recommendations)"
   ]
  }
 ],
 "metadata": {
  "kernelspec": {
   "display_name": "env",
   "language": "python",
   "name": "python3"
  },
  "language_info": {
   "codemirror_mode": {
    "name": "ipython",
    "version": 3
   },
   "file_extension": ".py",
   "mimetype": "text/x-python",
   "name": "python",
   "nbconvert_exporter": "python",
   "pygments_lexer": "ipython3",
   "version": "3.11.4"
  }
 },
 "nbformat": 4,
 "nbformat_minor": 2
}
